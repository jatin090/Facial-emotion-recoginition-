{
 "cells": [
  {
   "cell_type": "code",
   "execution_count": 1,
   "id": "44dd98ee",
   "metadata": {},
   "outputs": [],
   "source": [
    "import numpy as np\n",
    "import cv2\n",
    "import tensorflow as tf\n",
    "import os\n",
    "\n",
    "import matplotlib.pyplot as plt\n",
    "\n",
    "from tensorflow import keras \n",
    "from tensorflow.keras import layers"
   ]
  },
  {
   "cell_type": "code",
   "execution_count": 94,
   "id": "0eb12d0a",
   "metadata": {},
   "outputs": [],
   "source": [
    "my_model = tf.keras.models.load_model('my_model_64p35.h5') #69\n",
    "my_model2 = tf.keras.models.load_model('model_face_emotions_detection_google_colab.h5') #54, 48\n",
    "my_model3 = tf.keras.models.load_model('model_face_emotions_detection_google_colab2.h5') #58, 50\n"
   ]
  },
  {
   "cell_type": "code",
   "execution_count": 33,
   "id": "ebd11827",
   "metadata": {},
   "outputs": [],
   "source": [
    "face_detect = cv2.CascadeClassifier('haarcascade_frontalface_alt.xml')"
   ]
  },
  {
   "cell_type": "code",
   "execution_count": 4,
   "id": "34ef7bb8",
   "metadata": {},
   "outputs": [],
   "source": [
    "class_labels = ['Angry','Disgust','Fear','Happy','Sad','Surprise','Neutral']"
   ]
  },
  {
   "cell_type": "code",
   "execution_count": 96,
   "id": "18988d5e",
   "metadata": {},
   "outputs": [],
   "source": [
    "face_detect = cv2.CascadeClassifier('haarcascade_frontalface_default.xml')\n",
    "#eye_detect = cv2.CascadeClassifier('haarcascade_eye.xml')\n",
    "\n",
    "class_labels = ['Angry','Disgust','Fear','Happy','Sad','Surprise','Neutral']\n",
    "\n",
    "def face_detection(img,size=0.5):\n",
    "    img_gray = cv2.cvtColor(img, cv2.COLOR_BGR2GRAY)\n",
    "    face_roi = face_detect.detectMultiScale(img_gray, 1.3,1)\n",
    "    if face_roi is ():\n",
    "        return img\n",
    "\n",
    "    for(x,y,w,h) in face_roi:\n",
    "        x = x - 5\n",
    "        w = w + 10\n",
    "        y = y + 7\n",
    "        h = h + 2\n",
    "        cv2.rectangle(img, (x,y),(x+w,y+h),(125,125,10), 1)\n",
    "        #cv2.imshow('detected_face', img)\n",
    "        #cv2.waitKey(0)\n",
    "        img_gray_crop = img_gray[y:y+h,x:x+w]\n",
    "        img_color_crop = img[y:y+h,x:x+w]\n",
    "        \n",
    "        \n",
    "        final_image = cv2.resize(img_color_crop, (224,224))\n",
    "        final_image = np.expand_dims(final_image, axis = 0)\n",
    "        final_image = final_image/255.0\n",
    "    \n",
    "        prediction = my_model3.predict(final_image)\n",
    "        label=class_labels[prediction.argmax()]\n",
    "        cv2.putText(frame,label, (50,60), cv2.FONT_HERSHEY_SCRIPT_COMPLEX,2, (120,10,200),3)\n",
    "        #eye_roi = eye_detect.detectMultiScale(img_gray_crop)\n",
    "        \n",
    "        #for(ex,ey,ew,eh) in eye_roi:\n",
    "            #cv2.rectangle(img_color_crop, (ex,ey),(ex+ew,ey+eh),(125,125,10), 2)\n",
    "            #cv2.imshow('detected_face', img)\n",
    "\n",
    "    img_color_crop = cv2.flip(img_color_crop, 1)\n",
    "    return img\n",
    "\n",
    "cap = cv2.VideoCapture(0)\n",
    "\n",
    "while True:\n",
    "    ret, frame = cap.read()\n",
    "    cv2.imshow('LIVE', face_detection(frame))\n",
    "    if cv2.waitKey(1) & 0xFF == ord('q'):\n",
    "        break\n",
    "\n",
    "cap.release()\n",
    "cv2.destroyAllWindows()"
   ]
  },
  {
   "cell_type": "markdown",
   "id": "ec88f10b",
   "metadata": {},
   "source": [
    "## Testing with some random picture from google"
   ]
  },
  {
   "cell_type": "code",
   "execution_count": 65,
   "id": "1f3b6899",
   "metadata": {},
   "outputs": [],
   "source": [
    "img = cv2.imread('random2.jpg')"
   ]
  },
  {
   "cell_type": "code",
   "execution_count": 67,
   "id": "bfaa293c",
   "metadata": {},
   "outputs": [
    {
     "data": {
      "text/plain": [
       "-1"
      ]
     },
     "execution_count": 67,
     "metadata": {},
     "output_type": "execute_result"
    }
   ],
   "source": [
    "cv2.imshow('kk',img)\n",
    "cv2.waitKey(0)"
   ]
  },
  {
   "cell_type": "code",
   "execution_count": 68,
   "id": "0fdcf590",
   "metadata": {},
   "outputs": [],
   "source": [
    "# so its sad, lets check if it is giving the same output or not"
   ]
  },
  {
   "cell_type": "code",
   "execution_count": 69,
   "id": "98404a2e",
   "metadata": {},
   "outputs": [
    {
     "data": {
      "text/plain": [
       "(565, 441, 3)"
      ]
     },
     "execution_count": 69,
     "metadata": {},
     "output_type": "execute_result"
    }
   ],
   "source": [
    "img.shape"
   ]
  },
  {
   "cell_type": "code",
   "execution_count": 70,
   "id": "ac02c3a3",
   "metadata": {},
   "outputs": [
    {
     "data": {
      "text/plain": [
       "(224, 224, 3)"
      ]
     },
     "execution_count": 70,
     "metadata": {},
     "output_type": "execute_result"
    }
   ],
   "source": [
    "img = cv2.resize(img, (224,224),interpolation = cv2.INTER_AREA)\n",
    "\n",
    "img.shape\n"
   ]
  },
  {
   "cell_type": "code",
   "execution_count": 71,
   "id": "8a1b8619",
   "metadata": {},
   "outputs": [],
   "source": [
    "img_gray = cv2.cvtColor(img, cv2.COLOR_BGR2GRAY)\n",
    "face_roi = face_detect.detectMultiScale(img_gray, 1.3,1)"
   ]
  },
  {
   "cell_type": "code",
   "execution_count": 72,
   "id": "0c0fea0e",
   "metadata": {},
   "outputs": [],
   "source": [
    "face_detect = cv2.CascadeClassifier('haarcascade_frontalface_alt.xml')"
   ]
  },
  {
   "cell_type": "code",
   "execution_count": 87,
   "id": "ee0f27b0",
   "metadata": {},
   "outputs": [],
   "source": [
    "for(x,y,w,h) in face_roi:\n",
    "        x = x - 5\n",
    "        w = w - 5\n",
    "        y = y + 7\n",
    "        h = h -2\n",
    "        cv2.rectangle(img, (x,y),(x+w,y+h),(125,125,10), 2)\n",
    "        #cv2.imshow('detected_face', img)\n",
    "        #cv2.waitKey(0)\n",
    "        img_gray_crop = img_gray[y:y+h,x:x+w]\n",
    "        img_color_crop = img[y:y+h,x:x+w]"
   ]
  },
  {
   "cell_type": "code",
   "execution_count": 88,
   "id": "4db540f6",
   "metadata": {},
   "outputs": [
    {
     "data": {
      "text/plain": [
       "-1"
      ]
     },
     "execution_count": 88,
     "metadata": {},
     "output_type": "execute_result"
    }
   ],
   "source": [
    "cv2.imshow('kk', img_color_crop)\n",
    "cv2.waitKey(0)"
   ]
  },
  {
   "cell_type": "code",
   "execution_count": 89,
   "id": "990e32e5",
   "metadata": {},
   "outputs": [],
   "source": [
    "final_image = cv2.resize(img_color_crop, (224,224))\n",
    "final_image = np.expand_dims(final_image, axis = 0)\n",
    "final_image = final_image/255.0\n",
    "\n",
    "prediction = my_model2.predict(final_image)\n",
    "label=class_labels[prediction.argmax()]\n",
    "img = cv2.putText(img,label, (50,60), cv2.FONT_HERSHEY_SCRIPT_COMPLEX,2, (120,10,200),5)"
   ]
  },
  {
   "cell_type": "code",
   "execution_count": 90,
   "id": "96f3e3cf",
   "metadata": {},
   "outputs": [
    {
     "data": {
      "text/plain": [
       "-1"
      ]
     },
     "execution_count": 90,
     "metadata": {},
     "output_type": "execute_result"
    }
   ],
   "source": [
    "cv2.imshow('kk', img)\n",
    "cv2.waitKey(0)"
   ]
  },
  {
   "cell_type": "code",
   "execution_count": 173,
   "id": "e1bade75",
   "metadata": {},
   "outputs": [
    {
     "data": {
      "text/plain": [
       "4"
      ]
     },
     "execution_count": 173,
     "metadata": {},
     "output_type": "execute_result"
    }
   ],
   "source": [
    "np.argmax(prediction)"
   ]
  },
  {
   "cell_type": "code",
   "execution_count": null,
   "id": "d9475cf5",
   "metadata": {},
   "outputs": [],
   "source": []
  }
 ],
 "metadata": {
  "kernelspec": {
   "display_name": "Python 3",
   "language": "python",
   "name": "python3"
  },
  "language_info": {
   "codemirror_mode": {
    "name": "ipython",
    "version": 3
   },
   "file_extension": ".py",
   "mimetype": "text/x-python",
   "name": "python",
   "nbconvert_exporter": "python",
   "pygments_lexer": "ipython3",
   "version": "3.7.10"
  }
 },
 "nbformat": 4,
 "nbformat_minor": 5
}
